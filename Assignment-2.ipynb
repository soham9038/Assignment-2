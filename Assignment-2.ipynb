{
 "cells": [
  {
   "cell_type": "markdown",
   "metadata": {},
   "source": [
    "## T1"
   ]
  },
  {
   "cell_type": "markdown",
   "metadata": {},
   "source": [
    "**Q1.1**"
   ]
  },
  {
   "cell_type": "code",
   "execution_count": 7,
   "metadata": {},
   "outputs": [
    {
     "data": {
      "text/plain": [
       "72"
      ]
     },
     "execution_count": 7,
     "metadata": {},
     "output_type": "execute_result"
    }
   ],
   "source": [
    "def my_reduce(fun,seq):\n",
    "    output = seq[0]\n",
    "    for i in seq[1:]:\n",
    "        output = fun(output,i)\n",
    "    return output\n",
    "\n",
    "\n",
    "l = [10,20,30,5,4,2,1]\n",
    "my_reduce(lambda m,n: m+n, l)"
   ]
  },
  {
   "cell_type": "markdown",
   "metadata": {},
   "source": [
    "**Q1.2**"
   ]
  },
  {
   "cell_type": "code",
   "execution_count": 9,
   "metadata": {},
   "outputs": [
    {
     "data": {
      "text/plain": [
       "[12, 18, 10, 20, 30, 4, 2]"
      ]
     },
     "execution_count": 9,
     "metadata": {},
     "output_type": "execute_result"
    }
   ],
   "source": [
    "def my_filter(fun,l):\n",
    "    output =[]\n",
    "    \n",
    "    for i in l:\n",
    "        if fun(i):\n",
    "            output.append(fun(i))\n",
    "            \n",
    "    return output\n",
    "\n",
    "\n",
    "\n",
    "l = [12,18,15,13,17,10,20,30,5,4,2,1]\n",
    "\n",
    "def multiple_2(i):\n",
    "  \n",
    "    if (i % 2 == 0):       \n",
    "        return i\n",
    "    \n",
    "    \n",
    "my_filter(multiple_2,l)"
   ]
  },
  {
   "cell_type": "markdown",
   "metadata": {},
   "source": [
    "**Q2**"
   ]
  },
  {
   "cell_type": "code",
   "execution_count": 2,
   "metadata": {},
   "outputs": [
    {
     "name": "stdout",
     "output_type": "stream",
     "text": [
      "['A', 'C', 'A', 'D', 'G', 'I', 'L', 'D']\n"
     ]
    }
   ],
   "source": [
    "list = [i for i in 'ACADGILD']\n",
    "print (list)"
   ]
  },
  {
   "cell_type": "code",
   "execution_count": 3,
   "metadata": {},
   "outputs": [
    {
     "name": "stdout",
     "output_type": "stream",
     "text": [
      "['x', 'xx', 'xxx', 'xxxx', 'y', 'yy', 'yyy', 'yyyy', 'z', 'zz', 'zzz', 'zzzz']\n"
     ]
    }
   ],
   "source": [
    "list = [j*i for j in ['x', 'y', 'z'] for i in range(1,5)]\n",
    "print(list)"
   ]
  },
  {
   "cell_type": "code",
   "execution_count": 4,
   "metadata": {},
   "outputs": [
    {
     "name": "stdout",
     "output_type": "stream",
     "text": [
      "['x', 'y', 'z', 'xx', 'yy', 'zz', 'xxx', 'yyy', 'zzz', 'xxxx', 'yyyy', 'zzzz']\n"
     ]
    }
   ],
   "source": [
    "list = [j*i for i in range(1,5) for j in ['x', 'y', 'z']]\n",
    "print(list)"
   ]
  },
  {
   "cell_type": "code",
   "execution_count": 15,
   "metadata": {},
   "outputs": [
    {
     "name": "stdout",
     "output_type": "stream",
     "text": [
      "[[2], [3], [4], [3], [4], [5], [4], [5], [6]]\n"
     ]
    }
   ],
   "source": [
    "list = [[j+i] for j in [2, 3, 4] for i in range(3)]\n",
    "print(list)"
   ]
  },
  {
   "cell_type": "code",
   "execution_count": 5,
   "metadata": {},
   "outputs": [
    {
     "name": "stdout",
     "output_type": "stream",
     "text": [
      "[[2, 3, 4, 5], [3, 4, 5, 6], [4, 5, 6, 7], [5, 6, 7, 8]]\n"
     ]
    }
   ],
   "source": [
    "list = [[j+i for j in  [2, 3, 4, 5]] for i in range(4)]\n",
    "print(list)"
   ]
  },
  {
   "cell_type": "code",
   "execution_count": 6,
   "metadata": {},
   "outputs": [
    {
     "name": "stdout",
     "output_type": "stream",
     "text": [
      "[(1, 1), (1, 2), (1, 3), (2, 1), (2, 2), (2, 3), (3, 1), (3, 2), (3, 3)]\n"
     ]
    }
   ],
   "source": [
    "list = [(i, j) for i in [1, 2, 3] for j in [1, 2, 3]]\n",
    "print(list)"
   ]
  },
  {
   "cell_type": "markdown",
   "metadata": {},
   "source": [
    "**Q3**"
   ]
  },
  {
   "cell_type": "code",
   "execution_count": 7,
   "metadata": {},
   "outputs": [
    {
     "name": "stdout",
     "output_type": "stream",
     "text": [
      "Give me a List of Words : soham,rituparna\n",
      "['soham', 'rituparna']\n",
      "rituparna\n"
     ]
    }
   ],
   "source": [
    "def longest_word():\n",
    "    l = input('Give me a List of Words : ')\n",
    "    word = l.split(\",\")\n",
    "    print(word)\n",
    "    \n",
    "    q = []\n",
    "    \n",
    "    for i in range(0,len(word)):\n",
    "        q.append(len(word[i]))\n",
    "    \n",
    "    print(word[q.index(max(q))])\n",
    "    \n",
    "longest_word()"
   ]
  },
  {
   "cell_type": "markdown",
   "metadata": {},
   "source": [
    "## T2"
   ]
  },
  {
   "cell_type": "markdown",
   "metadata": {},
   "source": [
    "**1.1**"
   ]
  },
  {
   "cell_type": "code",
   "execution_count": 22,
   "metadata": {},
   "outputs": [
    {
     "name": "stdout",
     "output_type": "stream",
     "text": [
      "Length of side 1 :7\n",
      "Length of side 2 :8\n",
      "Length of side 3 :12\n",
      "Area of the Triangle = 26.906\n"
     ]
    }
   ],
   "source": [
    "class Triangle:\n",
    "    def __init__(self,a,b,c):\n",
    "        self.a = float(a)\n",
    "        self.b = float(b)\n",
    "        self.c = float(c)\n",
    "        self.s = (float(a)+float(b)+float(c))/2\n",
    "        \n",
    "        \n",
    "class Area(Triangle):\n",
    "    def __init__(self):\n",
    "        super().__init__(a,b,c)\n",
    "        self.area = round(((self.s*(self.s-self.a)*(self.s-self.b)*(self.s-self.c))**0.5),3)\n",
    "    \n",
    "\n",
    "    \n",
    "a = input(\"Length of side 1 :\")\n",
    "b = input(\"Length of side 2 :\")\n",
    "c= input(\"Length of side 3 :\")\n",
    "A = Triangle(a,b,c)\n",
    "\n",
    "B = Area()\n",
    "print(\"Area of the Triangle =\", B.area)\n"
   ]
  },
  {
   "cell_type": "markdown",
   "metadata": {},
   "source": [
    "**Q1.2**"
   ]
  },
  {
   "cell_type": "code",
   "execution_count": 6,
   "metadata": {},
   "outputs": [
    {
     "data": {
      "text/plain": [
       "['Freedom', 'Precision', 'Mathematics', 'Computational']"
      ]
     },
     "execution_count": 6,
     "metadata": {},
     "output_type": "execute_result"
    }
   ],
   "source": [
    "def filter_long_word(list,n):\n",
    "    word = []\n",
    "    for i in range(len(list)):\n",
    "        if len(list[i]) > n:\n",
    "            word.append(list[i])\n",
    "    return word\n",
    "\n",
    "\n",
    "list=['Happy', 'Mother', 'Social', 'Freedom', 'Precision', 'Mathematics', 'Computational']\n",
    "\n",
    "filter_long_word(list,6)"
   ]
  },
  {
   "cell_type": "markdown",
   "metadata": {},
   "source": [
    "**Q2.1**"
   ]
  },
  {
   "cell_type": "code",
   "execution_count": 2,
   "metadata": {},
   "outputs": [
    {
     "name": "stdout",
     "output_type": "stream",
     "text": [
      "numbers plz: Hello,Security,Happy\n",
      "['Hello', 'Security', 'Happy']\n"
     ]
    },
    {
     "data": {
      "text/plain": [
       "[5, 8, 5]"
      ]
     },
     "execution_count": 2,
     "metadata": {},
     "output_type": "execute_result"
    }
   ],
   "source": [
    "def word_length():\n",
    "    a1 = (input(\"numbers plz: \"))\n",
    "    a = a1.split(',')\n",
    "    print(a)\n",
    "    out = [len(i) for i in a]\n",
    "    return out\n",
    "\n",
    "word_length()"
   ]
  },
  {
   "cell_type": "markdown",
   "metadata": {},
   "source": [
    "**Q2.2**"
   ]
  },
  {
   "cell_type": "code",
   "execution_count": 31,
   "metadata": {},
   "outputs": [
    {
     "name": "stdout",
     "output_type": "stream",
     "text": [
      "Give a string of Length one :a\n"
     ]
    },
    {
     "data": {
      "text/plain": [
       "True"
      ]
     },
     "execution_count": 31,
     "metadata": {},
     "output_type": "execute_result"
    }
   ],
   "source": [
    "def vowels():\n",
    "    c = input(\"Give me a letter :\")\n",
    "    vowels = ('a', 'e', 'i','o', 'u')\n",
    "    if c not in vowels:\n",
    "        return False\n",
    "    return True\n",
    "\n",
    "vowels()\n",
    "    "
   ]
  }
 ],
 "metadata": {
  "kernelspec": {
   "display_name": "Python 3",
   "language": "python",
   "name": "python3"
  },
  "language_info": {
   "codemirror_mode": {
    "name": "ipython",
    "version": 3
   },
   "file_extension": ".py",
   "mimetype": "text/x-python",
   "name": "python",
   "nbconvert_exporter": "python",
   "pygments_lexer": "ipython3",
   "version": "3.7.4"
  }
 },
 "nbformat": 4,
 "nbformat_minor": 2
}
